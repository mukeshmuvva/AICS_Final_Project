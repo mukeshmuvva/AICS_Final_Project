{
  "cells": [
    {
      "cell_type": "code",
      "execution_count": null,
      "metadata": {
        "id": "HbYboJlpx2sp"
      },
      "outputs": [],
      "source": [
        "import sys\n",
        "import numpy\n",
        "import pandas\n",
        "import scipy\n",
        "import sklearn\n",
        "import re\n",
        "import urllib.request\n",
        "import os\n",
        "import tarfile\n",
        "import pickle\n",
        "import pandas as pd\n",
        "import nltk"
      ]
    },
    {
      "cell_type": "code",
      "execution_count": null,
      "metadata": {
        "id": "4gv_FQsnzZN-"
      },
      "outputs": [],
      "source": [
        "downloads = os.path.join(os.environ['HOME'] + \"/Downloads\")"
      ]
    },
    {
      "cell_type": "code",
      "execution_count": null,
      "metadata": {
        "id": "uuQ4vRcBfy26"
      },
      "outputs": [],
      "source": [
        "url = \"http://www.aueb.gr/users/ion/data/enron-spam/preprocessed/\"\n",
        "\n",
        "enron_dir = os.path.join(downloads, 'Enron emails')\n",
        "\n",
        "enron_files = ['enron1.tar.gz', 'enron2.tar.gz', 'enron3.tar.gz',\n",
        "               'enron4.tar.gz', 'enron5.tar.gz', 'enron6.tar.gz']\n"
      ]
    },
    {
      "cell_type": "code",
      "execution_count": null,
      "metadata": {
        "id": "Yno6gL8Qf0RJ"
      },
      "outputs": [],
      "source": [
        "def Get_Emails():\n",
        "    if not os.path.exists(enron_dir):\n",
        "        os.makedirs(enron_dir)\n",
        "    for file in enron_files:\n",
        "        path = os.path.join(enron_dir, file)\n",
        "        if not os.path.exists(path):\n",
        "            urllib.request.urlretrieve(url + file, path)"
      ]
    },
    {
      "cell_type": "code",
      "execution_count": null,
      "metadata": {
        "id": "p-Sy0QdFf_sz"
      },
      "outputs": [],
      "source": [
        "def extract_emails(fname):\n",
        "    rows = []\n",
        "    tfile = tarfile.open(fname, 'r:gz')\n",
        "    for member in tfile.getmembers():\n",
        "        if 'ham' in member.name:\n",
        "            f = tfile.extractfile(member)\n",
        "            if f is not None:\n",
        "                row = f.read()\n",
        "                rows.append({'message': row, 'class': 'ham'})\n",
        "        if 'spam' in member.name:\n",
        "            f = tfile.extractfile(member)\n",
        "            if f is not None:\n",
        "                row = f.read()\n",
        "                rows.append({'message': row, 'class': 'spam'})\n",
        "    tfile.close()\n",
        "    return pd.DataFrame(rows)"
      ]
    },
    {
      "cell_type": "code",
      "execution_count": null,
      "metadata": {
        "id": "2mnopkMTgC_b"
      },
      "outputs": [],
      "source": [
        "def populate_df_and_pickle():\n",
        "    if not os.path.exists(downloads + \"/emails.pickle\"):\n",
        "        emails_df = pd.DataFrame({'message': [], 'class': []})\n",
        "        for file in enron_files:\n",
        "            unzipped_file = extract_emails(os.path.join(enron_dir, file))\n",
        "            emails_df = emails_df.append(unzipped_file)\n",
        "        emails_df.to_pickle(downloads + \"/emails.pickle\")\n"
      ]
    },
    {
      "cell_type": "code",
      "execution_count": null,
      "metadata": {
        "id": "hyCEHMitgwRj"
      },
      "outputs": [],
      "source": [
        "Get_Emails()\n",
        "populate_df_and_pickle()\n"
      ]
    },
    {
      "cell_type": "code",
      "execution_count": null,
      "metadata": {
        "id": "nYNu9ncRhM0Q"
      },
      "outputs": [],
      "source": [
        "with open(downloads + '/emails.pickle', 'rb') as f:\n",
        "    emails_df = pickle.load(f) \n",
        "\n",
        "\n",
        "emails_df['message'] = emails_df['message'].apply(lambda x: x.decode('latin-1'))\n",
        "\n",
        "emails_df = emails_df.reset_index(drop=True)\n",
        "\n",
        "emails_df['class'] = emails_df['class'].map({'spam':1, 'ham':0})\n",
        "\n"
      ]
    },
    {
      "cell_type": "code",
      "execution_count": null,
      "metadata": {
        "colab": {
          "base_uri": "https://localhost:8080/",
          "height": 676
        },
        "id": "tFqK7O9qhxn2",
        "outputId": "75d5c568-5b81-44c3-8a2a-e433951eefb6"
      },
      "outputs": [
        {
          "data": {
            "text/html": [
              "<div>\n",
              "<style scoped>\n",
              "    .dataframe tbody tr th:only-of-type {\n",
              "        vertical-align: middle;\n",
              "    }\n",
              "\n",
              "    .dataframe tbody tr th {\n",
              "        vertical-align: top;\n",
              "    }\n",
              "\n",
              "    .dataframe thead th {\n",
              "        text-align: right;\n",
              "    }\n",
              "</style>\n",
              "<table border=\"1\" class=\"dataframe\">\n",
              "  <thead>\n",
              "    <tr style=\"text-align: right;\">\n",
              "      <th></th>\n",
              "      <th>message</th>\n",
              "      <th>class</th>\n",
              "    </tr>\n",
              "  </thead>\n",
              "  <tbody>\n",
              "    <tr>\n",
              "      <th>0</th>\n",
              "      <td>Subject: christmas tree farm pictures\\r\\n</td>\n",
              "      <td>0</td>\n",
              "    </tr>\n",
              "    <tr>\n",
              "      <th>1</th>\n",
              "      <td>Subject: vastar resources , inc .\\r\\ngary , pr...</td>\n",
              "      <td>0</td>\n",
              "    </tr>\n",
              "    <tr>\n",
              "      <th>2</th>\n",
              "      <td>Subject: calpine daily gas nomination\\r\\n- cal...</td>\n",
              "      <td>0</td>\n",
              "    </tr>\n",
              "    <tr>\n",
              "      <th>3</th>\n",
              "      <td>Subject: re : issue\\r\\nfyi - see note below - ...</td>\n",
              "      <td>0</td>\n",
              "    </tr>\n",
              "    <tr>\n",
              "      <th>4</th>\n",
              "      <td>Subject: meter 7268 nov allocation\\r\\nfyi .\\r\\...</td>\n",
              "      <td>0</td>\n",
              "    </tr>\n",
              "    <tr>\n",
              "      <th>5</th>\n",
              "      <td>Subject: mcmullen gas for 11 / 99\\r\\njackie ,\\...</td>\n",
              "      <td>0</td>\n",
              "    </tr>\n",
              "    <tr>\n",
              "      <th>6</th>\n",
              "      <td>Subject: meter 1517 - jan 1999\\r\\ngeorge ,\\r\\n...</td>\n",
              "      <td>0</td>\n",
              "    </tr>\n",
              "    <tr>\n",
              "      <th>7</th>\n",
              "      <td>Subject: duns number changes\\r\\nfyi\\r\\n- - - -...</td>\n",
              "      <td>0</td>\n",
              "    </tr>\n",
              "    <tr>\n",
              "      <th>8</th>\n",
              "      <td>Subject: king ranch\\r\\nthere are two fields of...</td>\n",
              "      <td>0</td>\n",
              "    </tr>\n",
              "    <tr>\n",
              "      <th>9</th>\n",
              "      <td>Subject: re : entex transistion\\r\\nthanks so m...</td>\n",
              "      <td>0</td>\n",
              "    </tr>\n",
              "    <tr>\n",
              "      <th>10</th>\n",
              "      <td>Subject: entex transistion\\r\\nthe purpose of t...</td>\n",
              "      <td>0</td>\n",
              "    </tr>\n",
              "    <tr>\n",
              "      <th>11</th>\n",
              "      <td>Subject: lst rev dec . 1999 josey ranch nom\\r\\...</td>\n",
              "      <td>0</td>\n",
              "    </tr>\n",
              "    <tr>\n",
              "      <th>12</th>\n",
              "      <td>Subject: 2 nd rev dec . 1999 josey ranch nom\\r...</td>\n",
              "      <td>0</td>\n",
              "    </tr>\n",
              "    <tr>\n",
              "      <th>13</th>\n",
              "      <td>Subject: unify close schedule\\r\\nthe following...</td>\n",
              "      <td>0</td>\n",
              "    </tr>\n",
              "    <tr>\n",
              "      <th>14</th>\n",
              "      <td>Subject: meter 1431 - nov 1999\\r\\naimee ,\\r\\ns...</td>\n",
              "      <td>0</td>\n",
              "    </tr>\n",
              "    <tr>\n",
              "      <th>15</th>\n",
              "      <td>Subject: meter 1431 - nov 1999\\r\\ndaren -\\r\\nc...</td>\n",
              "      <td>0</td>\n",
              "    </tr>\n",
              "    <tr>\n",
              "      <th>16</th>\n",
              "      <td>Subject: y 2 k - texas log\\r\\nname home pager\\...</td>\n",
              "      <td>0</td>\n",
              "    </tr>\n",
              "    <tr>\n",
              "      <th>17</th>\n",
              "      <td>Subject: re : lyondell citgo\\r\\nmy latest unde...</td>\n",
              "      <td>0</td>\n",
              "    </tr>\n",
              "    <tr>\n",
              "      <th>18</th>\n",
              "      <td>Subject: hpl fuel gas buy - back for december ...</td>\n",
              "      <td>0</td>\n",
              "    </tr>\n",
              "    <tr>\n",
              "      <th>19</th>\n",
              "      <td>Subject: ua 4 - meter 1441 for 11 / 97 - falfu...</td>\n",
              "      <td>0</td>\n",
              "    </tr>\n",
              "  </tbody>\n",
              "</table>\n",
              "</div>"
            ],
            "text/plain": [
              "                                              message  class\n",
              "0           Subject: christmas tree farm pictures\\r\\n      0\n",
              "1   Subject: vastar resources , inc .\\r\\ngary , pr...      0\n",
              "2   Subject: calpine daily gas nomination\\r\\n- cal...      0\n",
              "3   Subject: re : issue\\r\\nfyi - see note below - ...      0\n",
              "4   Subject: meter 7268 nov allocation\\r\\nfyi .\\r\\...      0\n",
              "5   Subject: mcmullen gas for 11 / 99\\r\\njackie ,\\...      0\n",
              "6   Subject: meter 1517 - jan 1999\\r\\ngeorge ,\\r\\n...      0\n",
              "7   Subject: duns number changes\\r\\nfyi\\r\\n- - - -...      0\n",
              "8   Subject: king ranch\\r\\nthere are two fields of...      0\n",
              "9   Subject: re : entex transistion\\r\\nthanks so m...      0\n",
              "10  Subject: entex transistion\\r\\nthe purpose of t...      0\n",
              "11  Subject: lst rev dec . 1999 josey ranch nom\\r\\...      0\n",
              "12  Subject: 2 nd rev dec . 1999 josey ranch nom\\r...      0\n",
              "13  Subject: unify close schedule\\r\\nthe following...      0\n",
              "14  Subject: meter 1431 - nov 1999\\r\\naimee ,\\r\\ns...      0\n",
              "15  Subject: meter 1431 - nov 1999\\r\\ndaren -\\r\\nc...      0\n",
              "16  Subject: y 2 k - texas log\\r\\nname home pager\\...      0\n",
              "17  Subject: re : lyondell citgo\\r\\nmy latest unde...      0\n",
              "18  Subject: hpl fuel gas buy - back for december ...      0\n",
              "19  Subject: ua 4 - meter 1441 for 11 / 97 - falfu...      0"
            ]
          },
          "execution_count": 10,
          "metadata": {},
          "output_type": "execute_result"
        }
      ],
      "source": [
        "emails_df.head(20)"
      ]
    },
    {
      "cell_type": "code",
      "execution_count": null,
      "metadata": {
        "id": "rIAXrM2orTYJ"
      },
      "outputs": [],
      "source": [
        "from string import punctuation\n",
        "import re"
      ]
    },
    {
      "cell_type": "code",
      "execution_count": null,
      "metadata": {
        "id": "o7FatrG1rja8"
      },
      "outputs": [],
      "source": [
        "def clean_email(email):\n",
        "    email = re.sub(r'http\\S+', ' ', email)\n",
        "    email = re.sub(\"\\d+\", \" \", email)\n",
        "    email = email.replace('\\n', ' ')\n",
        "    email = email.translate(str.maketrans(\"\", \"\", punctuation))\n",
        "    email = email.lower()\n",
        "    return email\n",
        "\n",
        "emails_df['message'] = emails_df['message'].apply(clean_email)"
      ]
    },
    {
      "cell_type": "code",
      "execution_count": null,
      "metadata": {
        "colab": {
          "base_uri": "https://localhost:8080/",
          "height": 676
        },
        "id": "mSLsnLXtr0uZ",
        "outputId": "45be1750-5756-4d4f-be83-0d29861caec1"
      },
      "outputs": [
        {
          "data": {
            "text/html": [
              "<div>\n",
              "<style scoped>\n",
              "    .dataframe tbody tr th:only-of-type {\n",
              "        vertical-align: middle;\n",
              "    }\n",
              "\n",
              "    .dataframe tbody tr th {\n",
              "        vertical-align: top;\n",
              "    }\n",
              "\n",
              "    .dataframe thead th {\n",
              "        text-align: right;\n",
              "    }\n",
              "</style>\n",
              "<table border=\"1\" class=\"dataframe\">\n",
              "  <thead>\n",
              "    <tr style=\"text-align: right;\">\n",
              "      <th></th>\n",
              "      <th>message</th>\n",
              "      <th>class</th>\n",
              "    </tr>\n",
              "  </thead>\n",
              "  <tbody>\n",
              "    <tr>\n",
              "      <th>0</th>\n",
              "      <td>subject christmas tree farm pictures\\r</td>\n",
              "      <td>0</td>\n",
              "    </tr>\n",
              "    <tr>\n",
              "      <th>1</th>\n",
              "      <td>subject vastar resources  inc \\r gary  product...</td>\n",
              "      <td>0</td>\n",
              "    </tr>\n",
              "    <tr>\n",
              "      <th>2</th>\n",
              "      <td>subject calpine daily gas nomination\\r  calpin...</td>\n",
              "      <td>0</td>\n",
              "    </tr>\n",
              "    <tr>\n",
              "      <th>3</th>\n",
              "      <td>subject re  issue\\r fyi  see note below  alrea...</td>\n",
              "      <td>0</td>\n",
              "    </tr>\n",
              "    <tr>\n",
              "      <th>4</th>\n",
              "      <td>subject meter   nov allocation\\r fyi \\r       ...</td>\n",
              "      <td>0</td>\n",
              "    </tr>\n",
              "    <tr>\n",
              "      <th>5</th>\n",
              "      <td>subject mcmullen gas for     \\r jackie \\r sinc...</td>\n",
              "      <td>0</td>\n",
              "    </tr>\n",
              "    <tr>\n",
              "      <th>6</th>\n",
              "      <td>subject meter    jan  \\r george \\r i need the ...</td>\n",
              "      <td>0</td>\n",
              "    </tr>\n",
              "    <tr>\n",
              "      <th>7</th>\n",
              "      <td>subject duns number changes\\r fyi\\r           ...</td>\n",
              "      <td>0</td>\n",
              "    </tr>\n",
              "    <tr>\n",
              "      <th>8</th>\n",
              "      <td>subject king ranch\\r there are two fields of g...</td>\n",
              "      <td>0</td>\n",
              "    </tr>\n",
              "    <tr>\n",
              "      <th>9</th>\n",
              "      <td>subject re  entex transistion\\r thanks so much...</td>\n",
              "      <td>0</td>\n",
              "    </tr>\n",
              "    <tr>\n",
              "      <th>10</th>\n",
              "      <td>subject entex transistion\\r the purpose of the...</td>\n",
              "      <td>0</td>\n",
              "    </tr>\n",
              "    <tr>\n",
              "      <th>11</th>\n",
              "      <td>subject lst rev dec    josey ranch nom\\r fyi\\r...</td>\n",
              "      <td>0</td>\n",
              "    </tr>\n",
              "    <tr>\n",
              "      <th>12</th>\n",
              "      <td>subject   nd rev dec    josey ranch nom\\r     ...</td>\n",
              "      <td>0</td>\n",
              "    </tr>\n",
              "    <tr>\n",
              "      <th>13</th>\n",
              "      <td>subject unify close schedule\\r the following i...</td>\n",
              "      <td>0</td>\n",
              "    </tr>\n",
              "    <tr>\n",
              "      <th>14</th>\n",
              "      <td>subject meter    nov  \\r aimee \\r sitara deal ...</td>\n",
              "      <td>0</td>\n",
              "    </tr>\n",
              "    <tr>\n",
              "      <th>15</th>\n",
              "      <td>subject meter    nov  \\r daren \\r could you pl...</td>\n",
              "      <td>0</td>\n",
              "    </tr>\n",
              "    <tr>\n",
              "      <th>16</th>\n",
              "      <td>subject y   k  texas log\\r name home pager\\r g...</td>\n",
              "      <td>0</td>\n",
              "    </tr>\n",
              "    <tr>\n",
              "      <th>17</th>\n",
              "      <td>subject re  lyondell citgo\\r my latest underst...</td>\n",
              "      <td>0</td>\n",
              "    </tr>\n",
              "    <tr>\n",
              "      <th>18</th>\n",
              "      <td>subject hpl fuel gas buy  back for december  \\...</td>\n",
              "      <td>0</td>\n",
              "    </tr>\n",
              "    <tr>\n",
              "      <th>19</th>\n",
              "      <td>subject ua    meter   for       falfurrias\\r d...</td>\n",
              "      <td>0</td>\n",
              "    </tr>\n",
              "  </tbody>\n",
              "</table>\n",
              "</div>"
            ],
            "text/plain": [
              "                                              message  class\n",
              "0             subject christmas tree farm pictures\\r       0\n",
              "1   subject vastar resources  inc \\r gary  product...      0\n",
              "2   subject calpine daily gas nomination\\r  calpin...      0\n",
              "3   subject re  issue\\r fyi  see note below  alrea...      0\n",
              "4   subject meter   nov allocation\\r fyi \\r       ...      0\n",
              "5   subject mcmullen gas for     \\r jackie \\r sinc...      0\n",
              "6   subject meter    jan  \\r george \\r i need the ...      0\n",
              "7   subject duns number changes\\r fyi\\r           ...      0\n",
              "8   subject king ranch\\r there are two fields of g...      0\n",
              "9   subject re  entex transistion\\r thanks so much...      0\n",
              "10  subject entex transistion\\r the purpose of the...      0\n",
              "11  subject lst rev dec    josey ranch nom\\r fyi\\r...      0\n",
              "12  subject   nd rev dec    josey ranch nom\\r     ...      0\n",
              "13  subject unify close schedule\\r the following i...      0\n",
              "14  subject meter    nov  \\r aimee \\r sitara deal ...      0\n",
              "15  subject meter    nov  \\r daren \\r could you pl...      0\n",
              "16  subject y   k  texas log\\r name home pager\\r g...      0\n",
              "17  subject re  lyondell citgo\\r my latest underst...      0\n",
              "18  subject hpl fuel gas buy  back for december  \\...      0\n",
              "19  subject ua    meter   for       falfurrias\\r d...      0"
            ]
          },
          "execution_count": 13,
          "metadata": {},
          "output_type": "execute_result"
        }
      ],
      "source": [
        "emails_df.head(20)"
      ]
    },
    {
      "cell_type": "code",
      "execution_count": 14,
      "metadata": {
        "id": "5e-K23a9sAhm"
      },
      "outputs": [],
      "source": [
        "from nltk.stem.snowball import SnowballStemmer\n",
        "from nltk.corpus import wordnet as wn"
      ]
    },
    {
      "cell_type": "code",
      "execution_count": 15,
      "metadata": {
        "id": "akP-tGr-sEmq"
      },
      "outputs": [],
      "source": [
        "def preproces_text(email):\n",
        "    words = \"\"\n",
        "    # Create the stemmer.\n",
        "    stemmer = SnowballStemmer(\"english\")\n",
        "    # Split text into words.\n",
        "    email = email.split()\n",
        "    for word in email:\n",
        "        words = words + stemmer.stem(word) + \" \"\n",
        "    \n",
        "    return words\n",
        "\n",
        "emails_df['message'] = emails_df['message'].apply(preproces_text)\n"
      ]
    },
    {
      "cell_type": "code",
      "execution_count": 16,
      "metadata": {
        "colab": {
          "base_uri": "https://localhost:8080/",
          "height": 676
        },
        "id": "CsAqZ6FLtRHp",
        "outputId": "435face1-1fec-40f5-e456-f5af0e4df031"
      },
      "outputs": [
        {
          "output_type": "execute_result",
          "data": {
            "text/html": [
              "<div>\n",
              "<style scoped>\n",
              "    .dataframe tbody tr th:only-of-type {\n",
              "        vertical-align: middle;\n",
              "    }\n",
              "\n",
              "    .dataframe tbody tr th {\n",
              "        vertical-align: top;\n",
              "    }\n",
              "\n",
              "    .dataframe thead th {\n",
              "        text-align: right;\n",
              "    }\n",
              "</style>\n",
              "<table border=\"1\" class=\"dataframe\">\n",
              "  <thead>\n",
              "    <tr style=\"text-align: right;\">\n",
              "      <th></th>\n",
              "      <th>message</th>\n",
              "      <th>class</th>\n",
              "    </tr>\n",
              "  </thead>\n",
              "  <tbody>\n",
              "    <tr>\n",
              "      <th>0</th>\n",
              "      <td>subject christma tree farm pictur</td>\n",
              "      <td>0</td>\n",
              "    </tr>\n",
              "    <tr>\n",
              "      <th>1</th>\n",
              "      <td>subject vastar resourc inc gari product from t...</td>\n",
              "      <td>0</td>\n",
              "    </tr>\n",
              "    <tr>\n",
              "      <th>2</th>\n",
              "      <td>subject calpin daili gas nomin calpin daili ga...</td>\n",
              "      <td>0</td>\n",
              "    </tr>\n",
              "    <tr>\n",
              "      <th>3</th>\n",
              "      <td>subject re issu fyi see note below alreadi don...</td>\n",
              "      <td>0</td>\n",
              "    </tr>\n",
              "    <tr>\n",
              "      <th>4</th>\n",
              "      <td>subject meter nov alloc fyi forward by lauri a...</td>\n",
              "      <td>0</td>\n",
              "    </tr>\n",
              "    <tr>\n",
              "      <th>5</th>\n",
              "      <td>subject mcmullen gas for jacki sinc the inlet ...</td>\n",
              "      <td>0</td>\n",
              "    </tr>\n",
              "    <tr>\n",
              "      <th>6</th>\n",
              "      <td>subject meter jan georg i need the follow done...</td>\n",
              "      <td>0</td>\n",
              "    </tr>\n",
              "    <tr>\n",
              "      <th>7</th>\n",
              "      <td>subject dun number chang fyi forward by gari l...</td>\n",
              "      <td>0</td>\n",
              "    </tr>\n",
              "    <tr>\n",
              "      <th>8</th>\n",
              "      <td>subject king ranch there are two field of gas ...</td>\n",
              "      <td>0</td>\n",
              "    </tr>\n",
              "    <tr>\n",
              "      <th>9</th>\n",
              "      <td>subject re entex transist thank so much for th...</td>\n",
              "      <td>0</td>\n",
              "    </tr>\n",
              "    <tr>\n",
              "      <th>10</th>\n",
              "      <td>subject entex transist the purpos of the email...</td>\n",
              "      <td>0</td>\n",
              "    </tr>\n",
              "    <tr>\n",
              "      <th>11</th>\n",
              "      <td>subject lst rev dec josey ranch nom fyi forwar...</td>\n",
              "      <td>0</td>\n",
              "    </tr>\n",
              "    <tr>\n",
              "      <th>12</th>\n",
              "      <td>subject nd rev dec josey ranch nom forward by ...</td>\n",
              "      <td>0</td>\n",
              "    </tr>\n",
              "    <tr>\n",
              "      <th>13</th>\n",
              "      <td>subject unifi close schedul the follow is the ...</td>\n",
              "      <td>0</td>\n",
              "    </tr>\n",
              "    <tr>\n",
              "      <th>14</th>\n",
              "      <td>subject meter nov aime sitara deal for meter h...</td>\n",
              "      <td>0</td>\n",
              "    </tr>\n",
              "    <tr>\n",
              "      <th>15</th>\n",
              "      <td>subject meter nov daren could you pleas resolv...</td>\n",
              "      <td>0</td>\n",
              "    </tr>\n",
              "    <tr>\n",
              "      <th>16</th>\n",
              "      <td>subject y k texa log name home pager georg gra...</td>\n",
              "      <td>0</td>\n",
              "    </tr>\n",
              "    <tr>\n",
              "      <th>17</th>\n",
              "      <td>subject re lyondel citgo my latest understand ...</td>\n",
              "      <td>0</td>\n",
              "    </tr>\n",
              "    <tr>\n",
              "      <th>18</th>\n",
              "      <td>subject hpl fuel gas buy back for decemb fyi f...</td>\n",
              "      <td>0</td>\n",
              "    </tr>\n",
              "    <tr>\n",
              "      <th>19</th>\n",
              "      <td>subject ua meter for falfurria daren i need yo...</td>\n",
              "      <td>0</td>\n",
              "    </tr>\n",
              "  </tbody>\n",
              "</table>\n",
              "</div>"
            ],
            "text/plain": [
              "                                              message  class\n",
              "0                  subject christma tree farm pictur       0\n",
              "1   subject vastar resourc inc gari product from t...      0\n",
              "2   subject calpin daili gas nomin calpin daili ga...      0\n",
              "3   subject re issu fyi see note below alreadi don...      0\n",
              "4   subject meter nov alloc fyi forward by lauri a...      0\n",
              "5   subject mcmullen gas for jacki sinc the inlet ...      0\n",
              "6   subject meter jan georg i need the follow done...      0\n",
              "7   subject dun number chang fyi forward by gari l...      0\n",
              "8   subject king ranch there are two field of gas ...      0\n",
              "9   subject re entex transist thank so much for th...      0\n",
              "10  subject entex transist the purpos of the email...      0\n",
              "11  subject lst rev dec josey ranch nom fyi forwar...      0\n",
              "12  subject nd rev dec josey ranch nom forward by ...      0\n",
              "13  subject unifi close schedul the follow is the ...      0\n",
              "14  subject meter nov aime sitara deal for meter h...      0\n",
              "15  subject meter nov daren could you pleas resolv...      0\n",
              "16  subject y k texa log name home pager georg gra...      0\n",
              "17  subject re lyondel citgo my latest understand ...      0\n",
              "18  subject hpl fuel gas buy back for decemb fyi f...      0\n",
              "19  subject ua meter for falfurria daren i need yo...      0"
            ]
          },
          "metadata": {},
          "execution_count": 16
        }
      ],
      "source": [
        "emails_df.head(20)"
      ]
    },
    {
      "cell_type": "code",
      "execution_count": 65,
      "metadata": {
        "id": "YAOdnYD4tWXl"
      },
      "outputs": [],
      "source": [
        "from sklearn.feature_extraction.text import TfidfVectorizer\n",
        "from sklearn.model_selection import train_test_split\n",
        "\n",
        "\n",
        "Xs = emails_df['message'].values\n",
        "Ys = emails_df['class'].values\n",
        "\n",
        "\n",
        "vectorizer = TfidfVectorizer(sublinear_tf=True, max_df=0.5,stop_words='english')\n",
        "Xs1 = vectorizer.fit_transform(Xs)\n",
        "\n",
        "\n",
        "X_train, X_test, y_train, y_test = train_test_split(Xs1,Ys,test_size=0.2, shuffle=True, random_state=0, stratify=Ys)\n",
        "\n",
        "\n"
      ]
    },
    {
      "cell_type": "code",
      "execution_count": 66,
      "metadata": {
        "colab": {
          "base_uri": "https://localhost:8080/"
        },
        "id": "m7lHtf5iuIlR",
        "outputId": "cec47134-edc6-4a07-abd6-b8e40654c6fc"
      },
      "outputs": [
        {
          "output_type": "stream",
          "name": "stderr",
          "text": [
            "/usr/local/lib/python3.7/dist-packages/sklearn/utils/deprecation.py:87: FutureWarning: Function get_feature_names is deprecated; get_feature_names is deprecated in 1.0 and will be removed in 1.2. Please use get_feature_names_out instead.\n",
            "  warnings.warn(msg, category=FutureWarning)\n"
          ]
        }
      ],
      "source": [
        "feature_names = vectorizer.get_feature_names()"
      ]
    },
    {
      "cell_type": "code",
      "execution_count": 67,
      "metadata": {
        "colab": {
          "base_uri": "https://localhost:8080/"
        },
        "id": "2G8CL6tguXYj",
        "outputId": "fd6ead98-e695-4ddf-c397-61f3dd561f45"
      },
      "outputs": [
        {
          "output_type": "stream",
          "name": "stdout",
          "text": [
            "Accuracy: 0.9847271648873073\n"
          ]
        }
      ],
      "source": [
        "from sklearn.naive_bayes import MultinomialNB\n",
        "\n",
        "clf = MultinomialNB()\n",
        "\n",
        "clf.fit(X_train, y_train)\n",
        "\n",
        "pred = clf.predict(X_test)\n",
        "\n",
        "print(\"Accuracy: {}\".format(clf.score(X_test, y_test))) "
      ]
    },
    {
      "cell_type": "code",
      "execution_count": 68,
      "metadata": {
        "colab": {
          "base_uri": "https://localhost:8080/"
        },
        "id": "oj3h2igvwIGj",
        "outputId": "d56ab4bf-b787-4104-d18d-618c4d372ec9"
      },
      "outputs": [
        {
          "output_type": "stream",
          "name": "stderr",
          "text": [
            "/usr/local/lib/python3.7/dist-packages/sklearn/utils/deprecation.py:87: FutureWarning: Function get_feature_names is deprecated; get_feature_names is deprecated in 1.0 and will be removed in 1.2. Please use get_feature_names_out instead.\n",
            "  warnings.warn(msg, category=FutureWarning)\n",
            "/usr/local/lib/python3.7/dist-packages/sklearn/utils/deprecation.py:103: FutureWarning: Attribute `coef_` was deprecated in version 0.24 and will be removed in 1.1 (renaming of 0.26).\n",
            "  warnings.warn(msg, category=FutureWarning)\n"
          ]
        },
        {
          "output_type": "stream",
          "name": "stdout",
          "text": [
            "-7.101930406379714 money\n",
            "-7.081060622911973 price\n",
            "-7.0772488202912855 onlin\n",
            "-7.076960633122006 offer\n",
            "-7.064397823813551 www\n",
            "-7.046302424656827 softwar\n",
            "-6.975680916541189 email\n",
            "-6.941400855243032 click\n",
            "-6.658365805870353 com\n",
            "-6.590683424968377 http\n"
          ]
        }
      ],
      "source": [
        "def get_most_important_features(vectorizer, classifier, n=None):\n",
        "    feature_names = vectorizer.get_feature_names()\n",
        "    top_features = sorted(zip(classifier.coef_[0], feature_names))[-n:]\n",
        "    for coef, feat in top_features:\n",
        "        print(coef, feat)\n",
        "\n",
        "get_most_important_features(vectorizer, clf, 10)"
      ]
    },
    {
      "cell_type": "code",
      "execution_count": 69,
      "metadata": {
        "id": "jMuWvraUxzMo"
      },
      "outputs": [],
      "source": [
        "email = [\"Hello George, how about a game of tennis tomorrow?\",\n",
        "         \"Hello, click here if you want to satisfy your wife tonight\",\n",
        "         \"We offer free viagra!!! Click here now!!!\",\n",
        "         \"Dear Sara, I prepared the annual report. Please check the attachment.\",\n",
        "         \"Hi David, will we go for cinema tonight?\",\n",
        "         \"Best holidays offers only here!!!\"]"
      ]
    },
    {
      "cell_type": "code",
      "execution_count": 70,
      "metadata": {
        "colab": {
          "base_uri": "https://localhost:8080/"
        },
        "id": "n6Xnupt1SCET",
        "outputId": "59b2147c-44ae-4b8f-ffe2-c75a07896b8d"
      },
      "outputs": [
        {
          "output_type": "execute_result",
          "data": {
            "text/plain": [
              "array([0, 1, 1, 0, 0, 1])"
            ]
          },
          "metadata": {},
          "execution_count": 70
        }
      ],
      "source": [
        "examples = vectorizer.transform(email)\n",
        "predictions = clf.predict(examples)\n",
        "predictions"
      ]
    },
    {
      "cell_type": "code",
      "execution_count": 71,
      "metadata": {
        "colab": {
          "base_uri": "https://localhost:8080/",
          "height": 423
        },
        "id": "bA8N29lsVEnU",
        "outputId": "56cc8567-eee2-4c26-a965-44cd2b6a1dbd"
      },
      "outputs": [
        {
          "output_type": "execute_result",
          "data": {
            "text/html": [
              "<div>\n",
              "<style scoped>\n",
              "    .dataframe tbody tr th:only-of-type {\n",
              "        vertical-align: middle;\n",
              "    }\n",
              "\n",
              "    .dataframe tbody tr th {\n",
              "        vertical-align: top;\n",
              "    }\n",
              "\n",
              "    .dataframe thead th {\n",
              "        text-align: right;\n",
              "    }\n",
              "</style>\n",
              "<table border=\"1\" class=\"dataframe\">\n",
              "  <thead>\n",
              "    <tr style=\"text-align: right;\">\n",
              "      <th></th>\n",
              "      <th>message</th>\n",
              "      <th>class</th>\n",
              "    </tr>\n",
              "  </thead>\n",
              "  <tbody>\n",
              "    <tr>\n",
              "      <th>0</th>\n",
              "      <td>subject christma tree farm pictur</td>\n",
              "      <td>0</td>\n",
              "    </tr>\n",
              "    <tr>\n",
              "      <th>1</th>\n",
              "      <td>subject vastar resourc inc gari product from t...</td>\n",
              "      <td>0</td>\n",
              "    </tr>\n",
              "    <tr>\n",
              "      <th>2</th>\n",
              "      <td>subject calpin daili gas nomin calpin daili ga...</td>\n",
              "      <td>0</td>\n",
              "    </tr>\n",
              "    <tr>\n",
              "      <th>3</th>\n",
              "      <td>subject re issu fyi see note below alreadi don...</td>\n",
              "      <td>0</td>\n",
              "    </tr>\n",
              "    <tr>\n",
              "      <th>4</th>\n",
              "      <td>subject meter nov alloc fyi forward by lauri a...</td>\n",
              "      <td>0</td>\n",
              "    </tr>\n",
              "    <tr>\n",
              "      <th>...</th>\n",
              "      <td>...</td>\n",
              "      <td>...</td>\n",
              "    </tr>\n",
              "    <tr>\n",
              "      <th>33711</th>\n",
              "      <td>subject iso q good news c edaliss val edumm vl...</td>\n",
              "      <td>1</td>\n",
              "    </tr>\n",
              "    <tr>\n",
              "      <th>33712</th>\n",
              "      <td>subject all prescript medicin are on special t...</td>\n",
              "      <td>1</td>\n",
              "    </tr>\n",
              "    <tr>\n",
              "      <th>33713</th>\n",
              "      <td>subject the next generat onlin pharmaci are yo...</td>\n",
              "      <td>1</td>\n",
              "    </tr>\n",
              "    <tr>\n",
              "      <th>33714</th>\n",
              "      <td>subject bloow in time the time learn how to la...</td>\n",
              "      <td>1</td>\n",
              "    </tr>\n",
              "    <tr>\n",
              "      <th>33715</th>\n",
              "      <td>subject dear sir i am interest in it hi do you...</td>\n",
              "      <td>1</td>\n",
              "    </tr>\n",
              "  </tbody>\n",
              "</table>\n",
              "<p>33716 rows × 2 columns</p>\n",
              "</div>"
            ],
            "text/plain": [
              "                                                 message  class\n",
              "0                     subject christma tree farm pictur       0\n",
              "1      subject vastar resourc inc gari product from t...      0\n",
              "2      subject calpin daili gas nomin calpin daili ga...      0\n",
              "3      subject re issu fyi see note below alreadi don...      0\n",
              "4      subject meter nov alloc fyi forward by lauri a...      0\n",
              "...                                                  ...    ...\n",
              "33711  subject iso q good news c edaliss val edumm vl...      1\n",
              "33712  subject all prescript medicin are on special t...      1\n",
              "33713  subject the next generat onlin pharmaci are yo...      1\n",
              "33714  subject bloow in time the time learn how to la...      1\n",
              "33715  subject dear sir i am interest in it hi do you...      1\n",
              "\n",
              "[33716 rows x 2 columns]"
            ]
          },
          "metadata": {},
          "execution_count": 71
        }
      ],
      "source": [
        "emails_df"
      ]
    },
    {
      "cell_type": "code",
      "execution_count": null,
      "metadata": {
        "colab": {
          "base_uri": "https://localhost:8080/"
        },
        "id": "4IJ6WX1NxWkt",
        "outputId": "bbd2913d-4c3c-4ccf-f19a-7dc8edeed15e"
      },
      "outputs": [
        {
          "data": {
            "text/plain": [
              "33716"
            ]
          },
          "execution_count": 24,
          "metadata": {},
          "output_type": "execute_result"
        }
      ],
      "source": [
        "len(Xs)"
      ]
    },
    {
      "cell_type": "code",
      "execution_count": 72,
      "metadata": {
        "colab": {
          "base_uri": "https://localhost:8080/"
        },
        "id": "VMJzKVsa_VY0",
        "outputId": "131cbe63-7532-4e5e-c9f8-d7e696b9a2dd"
      },
      "outputs": [
        {
          "output_type": "stream",
          "name": "stdout",
          "text": [
            "subject christma tree farm pictur \n",
            "subject vastar resourc inc gari product from the high island larger block a commenc on saturday at p m at about gross carlo expect between and gross for tomorrow vastar own of the gross product georg x forward by georg weissman hou ect on am daren j farmer am to carlo j rodriguez hou ect ect cc georg weissman hou ect ect melissa grave hou ect ect subject vastar resourc inc carlo pleas call linda and get everyth set up i m go to estim come up tomorrow with a increas each follow day base on my convers with bill fischer at bmar d forward by daren j farmer hou ect on am enron north america corp from georg weissman am to daren j farmer hou ect ect cc gari bryan hou ect ect melissa grave hou ect ect subject vastar resourc inc darren the attach appear to be a nomin from vastar resourc inc for the high island larger block a previous erron refer to as the well vastar now expect the well to commenc product sometim tomorrow i told linda harri that we d get her a telephon number in gas control so she can provid notif of the turn on tomorrow linda s number for the record are voic and fax would you pleas see that someon contact linda and advis her how to submit futur nomin via e mail fax or voic thank georg x forward by georg weissman hou ect on am linda harri on am to georg weissman hou ect ect cc subject hi a effect mscf d min ftp time hour hour hour hour hour hour hour hour hour hour hour hour hour hour hour hour hour \n",
            "subject calpin daili gas nomin calpin daili gas nomin doc \n",
            "subject re issu fyi see note below alreadi done stella forward by stella l morri hou ect on am from sherlyn schumack on am to stella l morri hou ect ect cc howard b camp hou ect ect subject re issu stella this has alreadi been taken care of you did this for me yesterday thank howard b camp am to stella l morri hou ect ect cc sherlyn schumack hou ect ect howard b camp hou ect ect stacey neuweil hou ect ect daren j farmer hou ect ect subject issu stella can you work with stacey or daren to resolv hc forward by howard b camp hou ect on am from sherlyn schumack pm to howard b camp hou ect ect cc subject issu i have to creat account arrang for purchas from unoc energi at meter deal not track for volum on deal expir \n",
            "subject meter nov alloc fyi forward by lauri a allen hou ect on pm kimber vaughn pm to lauri a allen hou ect ect cc mari m smith hou ect ect subject meter nov alloc lauri i have put this on stranga gas until i can get a contract from daren forward by kimber vaughn hou ect on pm lauri a allen pm to kimber vaughn hou ect ect anita luong hou ect ect cc howard b camp hou ect ect mari m smith hou ect ect subject meter nov alloc kim anita a volum of mm show to have been alloc to the reliant contract for novemb there was no nomin for reliant at this point in novemb and therefor there should be no volum alloc to their contract pleas make sure these volum are move off the reliant contract prior to novemb close thank \n",
            "subject mcmullen gas for jacki sinc the inlet to river plant is shut in on the last day of flow at what meter is the mcmullen gas be divert to at what meter is hpl buy the residu gas this is the gas from teco vastar vintag tejon and swift i still see activ deal at meter in path manag for teco vastar vintag tejon and swift i also see gas schedul in pop at meter and pleas advic we need to resolv this as soon as possibl so settlement can send out payment thank \n",
            "subject meter jan georg i need the follow done jan zero out receipt packag id alloc flow of to deliv packag id jan zero out receipt packag id zero out deliv packag id these were buyback that were incorrect nomin to transport contract ect receipt let me know when this is done hc \n",
            "subject dun number chang fyi forward by gari l payn hou ect on pm from antoin v pierr pm to tommi j yanowski hou ect ect kathryn bussel hou ect ect gari l payn hou ect ect dian e niestrath hou ect ect romeo d souza hou ect ect michael eiben hou ect ect clem cernosek hou ect ect scotti gilbert hou ect ect dave nommensen hou ect ect david rohan hou ect ect kevin heal cal ect ect richard pinion hou ect ect cc mari g gosnel hou ect ect jason moor hou ect ect samuel schott hou ect ect bernic rodriguez hou ect ect subject dun number chang i will be make these chang at am on wednesday decemb if you do not agre or have a problem with the dnb number chang pleas notifi me otherwis i will make the chang as schedul dunn number chang counterparti cp id number from to cinergi resourc inc energi dynam manag inc south jersey resourc group llc transalta energi market us inc philadelphia gas work thank renni \n",
            "subject king ranch there are two field of gas that i am have difficulti with in the unifi system cage ranch sinc there is no process agreement that accomod this gas on king ranch it is my understand hpl is sell the liquid and king ranch is re deliv to stratton it is also my understand that there is a cent fee to deliv this gas we need a method to accomod the volum flow on hpl at meter and this gas will not be reflect on tran usag ticket and sinc it is not be nomin from a process agreement we either need to input a point nom on hpl or krgp at these meter to match the nom at meter or a deal for purchas and sale if king ranch is take titl to the gas need to be input into sitara at these meter with the appropri rate i have current input a point nom on krgp to accomod this flow so we can divert some of this gas to the current interst sale that are be made forest oil there is a process agreement that will accomod flow from the meter into king ranch it is my understand that this agreement was origin setup until texaco had their own process agreement i need confirm that the gas from this meter should be nomin on contract and that this agreement should have been reassign to hplc it is current still under hplr if this gas is not nomin on the abov transport agreement then onc again we need to accomod the flow volum on the hpl pipe with either a point nom or a sitara deal at meter and \n",
            "subject re entex transist thank so much for the memo i would like to reiter my support on two key issu thu best of luck on this new assign howard has work hard and done a great job pleas don t be shi on ask question entex is critic to the texa busi and it is critic to our team that we are time and accur rita thank for set up the account team communic is critic to our success and i encourag you all to keep each other inform at all time the p l impact to our busi can be signific addit this is high profil so we want to assur top qualiti thank to all of you for all of your effort let me know if there is anyth i can do to help provid ani addit support rita wynn pm to janet h walli hou ect ect ami chokshi corp enron enron howard b camp hou ect ect thu nguyen hou ect ect kyle r lilli hou ect ect stacey neuweil hou ect ect georg grant hou ect ect juli meyer hou ect ect cc daren j farmer hou ect ect kathryn cord hou ect ect rita wynn hou ect lisa csiko hou ect ect brenda f herod hou ect ect pamela chamber corp enron enron subject entex transist the purpos of the email is to recap the kickoff meet held on yesterday with member from commerci and volum manag concernig the entex account effect januari thu nguyen x in the volum manag group will take over the respons of alloc the entex contract howard and thu began some train this month and will continu to transit the account over the next few month entex will be thu s primari account especi dure these first few month as she learn the alloc process and the contract howard will continu with his lead responsibilit within the group and be avail for question or as a backup if necessari thank howard for all your hard work on the account this year in the initi phase of this transist i would like to organ an entex account team the team member from front offic to back offic would meet at some point in the month to discuss ani issu relat to the schedul alloc settlement contract deal etc this hope will give each of you a chanc to not onli identifi and resolv issu befor the final process but to learn from each other relat to your respect area and allow the newcom to get up to speed on the account as well i would encourag everyon to attend these meet initi as i believ this is a critic part to the success of the entex account i will have my assist to coordin the initi meet for earli if anyon has ani question or concern pleas feel free to call me or stop by thank in advanc for everyon s cooper juli pleas add thu to the confirm distribut list \n"
          ]
        }
      ],
      "source": [
        "for i in range(0,10):\n",
        "  print(Xs[i])"
      ]
    },
    {
      "cell_type": "code",
      "execution_count": 73,
      "metadata": {
        "colab": {
          "base_uri": "https://localhost:8080/"
        },
        "id": "haV2CWuQB_PI",
        "outputId": "640b7221-e735-4eaf-8eba-70be85578ee0"
      },
      "outputs": [
        {
          "output_type": "execute_result",
          "data": {
            "text/plain": [
              "(33716, 2)"
            ]
          },
          "metadata": {},
          "execution_count": 73
        }
      ],
      "source": [
        "emails_df.shape"
      ]
    },
    {
      "cell_type": "code",
      "execution_count": 74,
      "metadata": {
        "colab": {
          "base_uri": "https://localhost:8080/"
        },
        "id": "S9H0suZJF0e_",
        "outputId": "787a5263-38b6-4fac-bc46-70eb6913c6ec"
      },
      "outputs": [
        {
          "output_type": "execute_result",
          "data": {
            "text/plain": [
              "(16545, 2)"
            ]
          },
          "metadata": {},
          "execution_count": 74
        }
      ],
      "source": [
        "emails_df[emails_df['class']==0].shape"
      ]
    },
    {
      "cell_type": "code",
      "execution_count": 75,
      "metadata": {
        "id": "ksbEmSjxJn_7"
      },
      "outputs": [],
      "source": [
        "from sklearn.metrics import confusion_matrix"
      ]
    },
    {
      "cell_type": "code",
      "execution_count": 76,
      "metadata": {
        "colab": {
          "base_uri": "https://localhost:8080/"
        },
        "id": "1LMU19L0JpBh",
        "outputId": "ade3104f-306c-412c-e1e8-c0eff9637e29"
      },
      "outputs": [
        {
          "output_type": "execute_result",
          "data": {
            "text/plain": [
              "array([[3260,   54],\n",
              "       [  49, 3381]])"
            ]
          },
          "metadata": {},
          "execution_count": 76
        }
      ],
      "source": [
        "y_predict=clf.predict(X_test)\n",
        "confusion_matrix(y_predict,y_test)"
      ]
    },
    {
      "cell_type": "code",
      "execution_count": null,
      "metadata": {
        "id": "zkPu2Z38KZdi"
      },
      "outputs": [],
      "source": [
        "from sklearn.metrics import f1_score"
      ]
    },
    {
      "cell_type": "code",
      "execution_count": null,
      "metadata": {
        "colab": {
          "base_uri": "https://localhost:8080/"
        },
        "id": "pTfAz4c1KaqG",
        "outputId": "6002c66d-f2eb-4ae3-9713-8b3fff136ee3"
      },
      "outputs": [
        {
          "data": {
            "text/plain": [
              "0.9849963583394027"
            ]
          },
          "execution_count": 31,
          "metadata": {},
          "output_type": "execute_result"
        }
      ],
      "source": [
        "f1_score(y_predict,y_test)"
      ]
    },
    {
      "cell_type": "code",
      "execution_count": null,
      "metadata": {
        "id": "98DSANQDKk1p"
      },
      "outputs": [],
      "source": [
        "from sklearn.metrics import recall_score"
      ]
    },
    {
      "cell_type": "code",
      "execution_count": null,
      "metadata": {
        "colab": {
          "base_uri": "https://localhost:8080/"
        },
        "id": "yQpQWH6kKndY",
        "outputId": "3fbb9cde-2f9d-4012-e1e9-47b3f115c97d"
      },
      "outputs": [
        {
          "data": {
            "text/plain": [
              "0.9857142857142858"
            ]
          },
          "execution_count": 33,
          "metadata": {},
          "output_type": "execute_result"
        }
      ],
      "source": [
        "recall_score(y_predict,y_test)"
      ]
    },
    {
      "cell_type": "code",
      "execution_count": null,
      "metadata": {
        "colab": {
          "base_uri": "https://localhost:8080/",
          "height": 140
        },
        "id": "T6Ii0A30LXm6",
        "outputId": "90213cee-ca04-4eb2-c923-7420fa588a55"
      },
      "outputs": [
        {
          "data": {
            "application/vnd.google.colaboratory.intrinsic+json": {
              "type": "string"
            },
            "text/plain": [
              "'subject vastar resourc inc gari product from the high island larger block a commenc on saturday at p m at about gross carlo expect between and gross for tomorrow vastar own of the gross product georg x forward by georg weissman hou ect on am daren j farmer am to carlo j rodriguez hou ect ect cc georg weissman hou ect ect melissa grave hou ect ect subject vastar resourc inc carlo pleas call linda and get everyth set up i m go to estim come up tomorrow with a increas each follow day base on my convers with bill fischer at bmar d forward by daren j farmer hou ect on am enron north america corp from georg weissman am to daren j farmer hou ect ect cc gari bryan hou ect ect melissa grave hou ect ect subject vastar resourc inc darren the attach appear to be a nomin from vastar resourc inc for the high island larger block a previous erron refer to as the well vastar now expect the well to commenc product sometim tomorrow i told linda harri that we d get her a telephon number in gas control so she can provid notif of the turn on tomorrow linda s number for the record are voic and fax would you pleas see that someon contact linda and advis her how to submit futur nomin via e mail fax or voic thank georg x forward by georg weissman hou ect on am linda harri on am to georg weissman hou ect ect cc subject hi a effect mscf d min ftp time hour hour hour hour hour hour hour hour hour hour hour hour hour hour hour hour hour '"
            ]
          },
          "execution_count": 34,
          "metadata": {},
          "output_type": "execute_result"
        }
      ],
      "source": [
        "emails_df['message'][1]"
      ]
    },
    {
      "cell_type": "code",
      "execution_count": 18,
      "metadata": {
        "colab": {
          "base_uri": "https://localhost:8080/"
        },
        "id": "HEIcO9CJzHrh",
        "outputId": "0f29982d-3d7a-433b-d447-c775bebcec3b"
      },
      "outputs": [
        {
          "output_type": "stream",
          "name": "stdout",
          "text": [
            "Mounted at /content/drive\n"
          ]
        }
      ],
      "source": [
        "from google.colab import drive\n",
        "drive.mount('/content/drive')"
      ]
    },
    {
      "cell_type": "code",
      "execution_count": 19,
      "metadata": {
        "id": "1z0YPElc0qXz"
      },
      "outputs": [],
      "source": [
        "dictionary=open('/content/drive/MyDrive/MainEnglishDictionary.txt','r')"
      ]
    },
    {
      "cell_type": "code",
      "execution_count": 20,
      "metadata": {
        "id": "VLCBv49i1oOo"
      },
      "outputs": [],
      "source": [
        "dictdata = dictionary.read()"
      ]
    },
    {
      "cell_type": "code",
      "execution_count": 21,
      "metadata": {
        "colab": {
          "base_uri": "https://localhost:8080/",
          "height": 206
        },
        "id": "wDV7C2ru2ew9",
        "outputId": "ff3dbe75-6e68-4781-d137-a2d189d0a431"
      },
      "outputs": [
        {
          "output_type": "execute_result",
          "data": {
            "text/html": [
              "<div>\n",
              "<style scoped>\n",
              "    .dataframe tbody tr th:only-of-type {\n",
              "        vertical-align: middle;\n",
              "    }\n",
              "\n",
              "    .dataframe tbody tr th {\n",
              "        vertical-align: top;\n",
              "    }\n",
              "\n",
              "    .dataframe thead th {\n",
              "        text-align: right;\n",
              "    }\n",
              "</style>\n",
              "<table border=\"1\" class=\"dataframe\">\n",
              "  <thead>\n",
              "    <tr style=\"text-align: right;\">\n",
              "      <th></th>\n",
              "      <th>message</th>\n",
              "      <th>class</th>\n",
              "    </tr>\n",
              "  </thead>\n",
              "  <tbody>\n",
              "    <tr>\n",
              "      <th>0</th>\n",
              "      <td>subject christma tree farm pictur</td>\n",
              "      <td>0</td>\n",
              "    </tr>\n",
              "    <tr>\n",
              "      <th>1</th>\n",
              "      <td>subject vastar resourc inc gari product from t...</td>\n",
              "      <td>0</td>\n",
              "    </tr>\n",
              "    <tr>\n",
              "      <th>2</th>\n",
              "      <td>subject calpin daili gas nomin calpin daili ga...</td>\n",
              "      <td>0</td>\n",
              "    </tr>\n",
              "    <tr>\n",
              "      <th>3</th>\n",
              "      <td>subject re issu fyi see note below alreadi don...</td>\n",
              "      <td>0</td>\n",
              "    </tr>\n",
              "    <tr>\n",
              "      <th>4</th>\n",
              "      <td>subject meter nov alloc fyi forward by lauri a...</td>\n",
              "      <td>0</td>\n",
              "    </tr>\n",
              "  </tbody>\n",
              "</table>\n",
              "</div>"
            ],
            "text/plain": [
              "                                             message  class\n",
              "0                 subject christma tree farm pictur       0\n",
              "1  subject vastar resourc inc gari product from t...      0\n",
              "2  subject calpin daili gas nomin calpin daili ga...      0\n",
              "3  subject re issu fyi see note below alreadi don...      0\n",
              "4  subject meter nov alloc fyi forward by lauri a...      0"
            ]
          },
          "metadata": {},
          "execution_count": 21
        }
      ],
      "source": [
        "emails_df.head()"
      ]
    },
    {
      "cell_type": "code",
      "execution_count": 22,
      "metadata": {
        "id": "J5bE_PMi1zA1"
      },
      "outputs": [],
      "source": [
        "emails_dict_df=emails_df.copy()"
      ]
    },
    {
      "cell_type": "code",
      "execution_count": 23,
      "metadata": {
        "colab": {
          "base_uri": "https://localhost:8080/",
          "height": 423
        },
        "id": "FT2hvRhw2O-u",
        "outputId": "810326b3-4e9c-49d6-f29b-820ae54150c0"
      },
      "outputs": [
        {
          "output_type": "execute_result",
          "data": {
            "text/html": [
              "<div>\n",
              "<style scoped>\n",
              "    .dataframe tbody tr th:only-of-type {\n",
              "        vertical-align: middle;\n",
              "    }\n",
              "\n",
              "    .dataframe tbody tr th {\n",
              "        vertical-align: top;\n",
              "    }\n",
              "\n",
              "    .dataframe thead th {\n",
              "        text-align: right;\n",
              "    }\n",
              "</style>\n",
              "<table border=\"1\" class=\"dataframe\">\n",
              "  <thead>\n",
              "    <tr style=\"text-align: right;\">\n",
              "      <th></th>\n",
              "      <th>message</th>\n",
              "      <th>class</th>\n",
              "    </tr>\n",
              "  </thead>\n",
              "  <tbody>\n",
              "    <tr>\n",
              "      <th>0</th>\n",
              "      <td>subject christma tree farm pictur</td>\n",
              "      <td>0</td>\n",
              "    </tr>\n",
              "    <tr>\n",
              "      <th>1</th>\n",
              "      <td>subject vastar resourc inc gari product from t...</td>\n",
              "      <td>0</td>\n",
              "    </tr>\n",
              "    <tr>\n",
              "      <th>2</th>\n",
              "      <td>subject calpin daili gas nomin calpin daili ga...</td>\n",
              "      <td>0</td>\n",
              "    </tr>\n",
              "    <tr>\n",
              "      <th>3</th>\n",
              "      <td>subject re issu fyi see note below alreadi don...</td>\n",
              "      <td>0</td>\n",
              "    </tr>\n",
              "    <tr>\n",
              "      <th>4</th>\n",
              "      <td>subject meter nov alloc fyi forward by lauri a...</td>\n",
              "      <td>0</td>\n",
              "    </tr>\n",
              "    <tr>\n",
              "      <th>...</th>\n",
              "      <td>...</td>\n",
              "      <td>...</td>\n",
              "    </tr>\n",
              "    <tr>\n",
              "      <th>33712</th>\n",
              "      <td>subject all prescript medicin are on special t...</td>\n",
              "      <td>1</td>\n",
              "    </tr>\n",
              "    <tr>\n",
              "      <th>33713</th>\n",
              "      <td>subject the next generat onlin pharmaci are yo...</td>\n",
              "      <td>1</td>\n",
              "    </tr>\n",
              "    <tr>\n",
              "      <th>33714</th>\n",
              "      <td>subject bloow in time the time learn how to la...</td>\n",
              "      <td>1</td>\n",
              "    </tr>\n",
              "    <tr>\n",
              "      <th>33715</th>\n",
              "      <td>subject dear sir i am interest in it hi do you...</td>\n",
              "      <td>1</td>\n",
              "    </tr>\n",
              "    <tr>\n",
              "      <th>33716</th>\n",
              "      <td>Alphabet</td>\n",
              "      <td>1</td>\n",
              "    </tr>\n",
              "  </tbody>\n",
              "</table>\n",
              "<p>33717 rows × 2 columns</p>\n",
              "</div>"
            ],
            "text/plain": [
              "                                                 message  class\n",
              "0                     subject christma tree farm pictur       0\n",
              "1      subject vastar resourc inc gari product from t...      0\n",
              "2      subject calpin daili gas nomin calpin daili ga...      0\n",
              "3      subject re issu fyi see note below alreadi don...      0\n",
              "4      subject meter nov alloc fyi forward by lauri a...      0\n",
              "...                                                  ...    ...\n",
              "33712  subject all prescript medicin are on special t...      1\n",
              "33713  subject the next generat onlin pharmaci are yo...      1\n",
              "33714  subject bloow in time the time learn how to la...      1\n",
              "33715  subject dear sir i am interest in it hi do you...      1\n",
              "33716                                           Alphabet      1\n",
              "\n",
              "[33717 rows x 2 columns]"
            ]
          },
          "metadata": {},
          "execution_count": 23
        }
      ],
      "source": [
        "emails_dict_df.append({'message':'Alphabet','class':1},ignore_index=True)"
      ]
    },
    {
      "cell_type": "code",
      "execution_count": 24,
      "metadata": {
        "id": "HytUcDUe20jM"
      },
      "outputs": [],
      "source": [
        "for word in dictdata.split(' '):\n",
        "  emails_dict_df.append({'message':word,'class':1},ignore_index=True)"
      ]
    },
    {
      "cell_type": "code",
      "execution_count": 30,
      "metadata": {
        "id": "uqvVG76076P7"
      },
      "outputs": [],
      "source": [
        "emails_dict_df.to_pickle(\"/content/drive/MyDrive/Pickles/df_dict.pkl\")"
      ]
    },
    {
      "cell_type": "code",
      "execution_count": 31,
      "metadata": {
        "id": "feaJV0an8UZm"
      },
      "outputs": [],
      "source": [
        "em_dict=pd.read_pickle(\"/content/drive/MyDrive/Pickles/df_dict.pkl\")"
      ]
    },
    {
      "cell_type": "code",
      "source": [
        "from sklearn.feature_extraction.text import TfidfVectorizer\n",
        "from sklearn.model_selection import train_test_split\n",
        "Xs = emails_df['message'].values\n",
        "Ys = emails_df['class'].values\n",
        "\n",
        "\n",
        "vectorizer = TfidfVectorizer(sublinear_tf=True, max_df=0.5,stop_words='english')\n",
        "Xs1 = vectorizer.fit_transform(Xs)\n",
        "\n",
        "\n",
        "X_train, X_test, y_train, y_test = train_test_split(Xs1,Ys,test_size=0.2, shuffle=True, random_state=0, stratify=Ys)\n",
        "\n",
        "from sklearn.naive_bayes import MultinomialNB\n",
        "\n",
        "clf = MultinomialNB()\n",
        "\n",
        "clf.fit(X_train, y_train)\n",
        "\n",
        "pred = clf.predict(X_test)\n",
        "\n",
        "print(\"Accuracy: {}\".format(clf.score(X_test, y_test)))"
      ],
      "metadata": {
        "colab": {
          "base_uri": "https://localhost:8080/"
        },
        "id": "Zom7hUWaJPe-",
        "outputId": "ed1aaeaa-f997-43d3-8406-241141bbab6e"
      },
      "execution_count": 36,
      "outputs": [
        {
          "output_type": "stream",
          "name": "stdout",
          "text": [
            "Accuracy: 0.5847271648873073\n"
          ]
        }
      ]
    },
    {
      "cell_type": "code",
      "source": [
        "emails_df['message'][5]"
      ],
      "metadata": {
        "colab": {
          "base_uri": "https://localhost:8080/",
          "height": 88
        },
        "id": "hMBwwER9Jv6R",
        "outputId": "646a9167-abdd-451a-c693-73955b830517"
      },
      "execution_count": 46,
      "outputs": [
        {
          "output_type": "execute_result",
          "data": {
            "application/vnd.google.colaboratory.intrinsic+json": {
              "type": "string"
            },
            "text/plain": [
              "'subject mcmullen gas for jacki sinc the inlet to river plant is shut in on the last day of flow at what meter is the mcmullen gas be divert to at what meter is hpl buy the residu gas this is the gas from teco vastar vintag tejon and swift i still see activ deal at meter in path manag for teco vastar vintag tejon and swift i also see gas schedul in pop at meter and pleas advic we need to resolv this as soon as possibl so settlement can send out payment thank '"
            ]
          },
          "metadata": {},
          "execution_count": 46
        }
      ]
    },
    {
      "cell_type": "code",
      "source": [
        "emails_dict_df.append({'message':'subject mcmullen gas for jacki sinc the inlet to river plant is shut in on the last day of flow at what meter is the mcmullen gas be divert to at what meter is hpl buy the residu gas this is the gas from teco vastar vintag tejon and swift i still see activ deal at meter in path manag for teco vastar vintag tejon and swift i also see gas schedul in pop at meter and pleas advic we need to resolv this as soon as possibl so settlement can send out payment thank ','class':1},ignore_index=True)\n",
        "emails_dict_df.append({'message':'subject mcmullen gas for jacki sinc the inlet to river plant is shut in on the last day of flow at what meter is the mcmullen gas be divert to at what meter is hpl buy the residu gas this is the gas from teco vastar vintag tejon and swift i still see activ deal at meter in path manag for teco vastar vintag tejon and swift i also see gas schedul in pop at meter and pleas advic we need to resolv this as soon as possibl so settlement can send out payment thank ','class':1},ignore_index=True)\n",
        "emails_dict_df.append({'message':'subject mcmullen gas for jacki sinc the inlet to river plant is shut in on the last day of flow at what meter is the mcmullen gas be divert to at what meter is hpl buy the residu gas this is the gas from teco vastar vintag tejon and swift i still see activ deal at meter in path manag for teco vastar vintag tejon and swift i also see gas schedul in pop at meter and pleas advic we need to resolv this as soon as possibl so settlement can send out payment thank ','class':1},ignore_index=True)\n",
        "emails_dict_df.append({'message':'subject mcmullen gas for jacki sinc the inlet  in on the last day of flow at what meter is the mcmullen gas be divert to at what meter is hpl buy the residu gas this is the gas from teco vastar vintag tejon and swift i still see activ deal at meter in path manag for teco vastar vintag tejon and swift i also see gas schedul in pop at meter and pleas advic we need to resolv this as soon as possibl so settlement can send out payment thank ','class':1},ignore_index=True)\n",
        "emails_dict_df.append({'message':'subject mcmullen gas for jacki sinc the inlet to river plant is shut in on the last day of flow at what meter is the mcmullen gas be divert to at what meter is hpl buy the residu gas this is the gas from teco vastar vintag tejon and swift i still see activ deal at meter in path manag for teco vastar vintag tejon and swift i also see gas schedul in pop at meter and pleas advic we need to resolv this as soon as possibl so settlement can send out payment thank ','class':1},ignore_index=True)\n",
        "emails_dict_df.append({'message':'subject mcmullen gas for jacki sinc the inlet to river plant is shut in on the last day of flow at what meter is the mcmullen gas be divert to at what meter is hpl buy the residu gas this is the gas from teco vastar vintag tejon and swift i still see activ deal at meter in path manag for teco vastar vintag tejon and swift i also see gas schedul in pop at meter and pleas advic we need to resolv this as soon as possibl so settlement can send out payment thank ','class':1},ignore_index=True)\n",
        "emails_dict_df.append({'message':'subject mcmullen gas  to river plant is shut in on  last day of flow at what meter is the mcmullen gas be divert to at what meter is hpl buy the residu gas this is the gas from teco vastar vintag tejon and swift i still see activ deal at meter in path manag for teco vastar vintag tejon and swift i also see gas schedul in pop at meter and pleas advic we need to resolv this as soon as possibl so settlement can send out payment thank ','class':1},ignore_index=True)\n",
        "emails_dict_df.append({'message':'subject mcmullen gas for jacki sinc the inlet to river plant is shut in on the last day of flow at what meter is the mcmullen gas be divert to at what meter is hpl buy the residu gas this is the gas from teco vastar vintag tejon and swift i still see activ deal at meter in path manag for teco vastar vintag tejon and swift i also see gas schedul in pop at meter and pleas advic we need to resolv this as soon as possibl so settlement can send out payment thank ','class':1},ignore_index=True)\n",
        "emails_dict_df.append({'message':'subject mcmullen gas for jacki sinc the inlet to river plant is shut in on the last day of flow at what meter is the mcmullen gas be divert to at what meter is hpl buy the residu gas this is the gas from teco vastar vintag tejon and swift i still see activ deal at meter in path manag for teco vastar vintag tejon and swift i also see gas schedul in pop at meter and pleas advic we need to resolv this as soon as possibl so settlement can send out payment thank ','class':1},ignore_index=True)\n",
        "emails_dict_df.append({'message':'subject mcmullen gas for jacki sinc the inlet to river plant is shut in on the last day of flow at what meter is the mcmullen gas be divert to at what meter is hpl buy the residu gas this is the gas from teco vastar vintag tejon and swift i still see activ deal at meter in path manag for teco vastar vintag tejon and swift i also see gas schedul in pop at  can send out payment thank ','class':1},ignore_index=True)\n",
        "emails_dict_df.append({'message':'subject mcmullen gas for jacki sinc the inlet to river plant is shut in on the last day of flow at what meter is the mcmullen gas be divert to at what meter is hpl buy the residu gas this is the gas from teco vastar vintag tejon and swift i still see activ deal at meter in path manag for teco vastar vintag tejon and swift i also see gas schedul in pop at meter and pleas advic we need to resolv this as soon as possibl so settlement can send out payment thank ','class':1},ignore_index=True)\n",
        "emails_dict_df.append({'message':'subject mcmullen gas for jacki sinc the inlet to river plant is shut in on the last day of flow at what meter is the mcmullen gas be divert to at what meter is hpl buy the residu gas this is the gas from teco vastar vintag tejon and swift i still see activ deal at meter in path manag for teco vastar vintag tejon and swift i also see gas schedul in pop at meter and pleas advic we need to resolv this as soon as possibl so settlement can send out payment thank ','class':1},ignore_index=True)\n",
        "emails_dict_df.append({'message':'subject mcmullenplant is shut in on the last day of flow at what meter is the mcmullen gas be divert to at what meter is hpl buy the residu gas this is the gas from teco vastar vintag tejon and swift i still see activ deal at meter in path manag for teco vastar vintag tejon and swift i also see gas schedul in pop at meter and pleas advic we need to resolv this as soon as possibl so settlement can send out payment thank ','class':1},ignore_index=True)\n",
        "emails_dict_df.append({'message':'subject mcmullen gas for jacki sinc the inlet to river plant is shut in on the last day of flow at what meter is the mcmullen gas be divert to at what meter is hpl buy the residu gas this is the gas from teco vastar vintag tejon and swift i still see activ deal at meter in path manag for teco vastar vintag tejon and swift i also see gas schedul in pop at meter and pleas advic we need to resolv this as soon as possibl so settlement can send out payment thank ','class':1},ignore_index=True)\n",
        "emails_dict_df.append({'message':'subject mcmullen gas for jacki sinc the inlet to river plant is shut in on the last day of flow at what meter is the mcmullen gas be divert to at what meter is hpl buy the residu gas this is the gas from teco vastar vintag tejon and swift i still see activ deal at meter in path manag for teco vastar vintag tejon and swift i also see gas schedul in pop at meter and pleas advic we need to resolv this as soon as possibl so settlement can send out payment thank ','class':1},ignore_index=True)\n",
        "emails_dict_df.append({'message':'subject mcmullen gas for jacki sinc the inlet to river plant is shut in on the last day of flow at what meter is the mcmullen gas be divert to at what meter is hpl buy the residu gas this is the gas from teco vastar vintag tejon and swift i still see activ deal at meter in path manag for teco vastar vintag tejon and swift i also see gas schedul in pop at meter and pleas advic we need to resolv this as soon as possibl so settlement can send out payment thank ','class':1},ignore_index=True)\n",
        "emails_dict_df.append({'message':'subject mcmullen gas for jacki sinc the inlet to river plant is shut in on the last day of flow at what meter is the mcmullen gas be divert to at what meter is hpl buy the residu gas this is the gas from teco vastar vintag tejon and swift i still see activ deal at meter in path manag for teco vastar vintag tejon and swift i also see gas schedul in pop at meter and pleas advic we need to resolv this as soon as possibl so settlement can send out payment thank ','class':1},ignore_index=True)\n",
        "emails_dict_df.append({'message':'subject mcmullen gas for jacki sinc the inlet to river plant is shut in on the last day of flow at what meter is the mcmullen gas be divert to at what meter is hpl buy the residu gas this is the gas from teco vastar vintag tejon and swift i still see activ deal at meter in path manag for teco vastar vintag tejon and swift i also see gas schedul in pop at meter and pleas advic we send out payment thank ','class':1},ignore_index=True)\n",
        "emails_dict_df.append({'message':'subject mcmullen gas for jacki sinc the inlet to river plant is shut in on the last day of flow at what meter is the mcmullen gas be divert to at what meter is hpl buy the residu gas this is the gas from teco vastar vintag tejon and swift i still see activ deal at meter in path manag for teco vastar vintag tejon and swift i also see gas schedul in pop at meter and pleas advic we need to resolv this as soon as possibl so settlement can send out payment thank ','class':1},ignore_index=True)\n",
        "emails_dict_df.append({'message':'subject mcmullen gas for jacki sinc the inlet to river plant is shut in on the last day of flow at what meter is the mcmullen gas be divert to at what meter is hpl buy the residu gas this is the gas from teco vastar vintag tejon and swift i still see activ deal at meter in path manag for teco vastar vintag tejon and swift i also see gas schedul in pop at meter and pleas advic we need to resolv this as soon as possibl so settlement can send out payment thank ','class':1},ignore_index=True)\n",
        "emails_dict_df.append({'message':'subject mcmullen  is shut in on the last day of flow at what meter is the mcmullen gas be divert to at what meter is hpl buy the residu gas this is the gas from teco vastar vintag tejon and swift i still see activ deal at meter in path manag for teco vastar vintag tejon and swift i also see gas schedul in pop at meter and pleas advic we need to resolv this as soon as possibl so settlement can send out payment thank ','class':1},ignore_index=True)\n",
        "emails_dict_df.append({'message':'subject mcmullen gas for jacki sinc the inlet to river plant is shut in on the last day of flow at what meter is the mcmullen gas be divert to at what meter is hpl buy the residu gas this is the gas from teco vastar vintag tejon and swift i still see activ deal at meter in path manag for teco vastar vintag tejon and swift i also see gas schedul in pop at meter and pleas advic we need to resolv this as soon as possibl so settlement can send out payment thank ','class':1},ignore_index=True)\n",
        "emails_dict_df.append({'message':'subject mcmullen gas for jacki sinc the inlet to river plant is shut in on the last day of flow at what meter is the mcmullen gas be divert to at what meter is hpl buy the residu gas this is the gas from teco vastar vintag tejon and swift i still see activ deal at meter in path manag for teco vastar vintag tejon and swift i also see gas schedul in pop at meter and pleas advic we need to resolv this as soon as possibl so settlement can send out payment thank ','class':1},ignore_index=True)\n",
        "emails_dict_df.append({'message':'subject mcmullen gas for jacki sinc the inlet to river plant is shut in on the last day of flow at what meter is the mcmullen gas be divert to at what meter is hpl buy the residu gas this is the gas from teco vastar vintag tejon and swift i still see activ deal at meter in path manag for teco vastar vintag tejon and swift i also see gas schedul in pop at meter and pleas advic we need to resolv this as soon as possibl so settlement can send out payment thank ','class':1},ignore_index=True)\n",
        "emails_dict_df.append({'message':'subject mcmullen gas for jacki  last day of flow at what meter is the mcmullen gas be divert to at what meter is hpl buy the residu gas this is the gas from teco vastar vintag tejon and swift i still see activ deal at meter in path manag for teco vastar vintag tejon and swift i also see gas schedul in pop at meter and pleas advic we need to resolv this as soon as possibl so settlement can send out payment thank ','class':1},ignore_index=True)\n",
        "emails_dict_df.append({'message':'subject mcmullen gas for jacki sinc the inlet to river plant is shut in on the last day of flow at what meter is the mcmullen gas be divert to at what meter is hpl buy the residu gas this is the gas from teco vastar vintag tejon and swift i still see activ deal at meter in path manag for teco vastar vintag tejon and swift i also see gas schedul in pop at meter and pleas advic we need to resolv this as soon as possibl so settlement can send out payment thank ','class':1},ignore_index=True)\n",
        "emails_dict_df.append({'message':'subject mcmullen  last day of flow at what meter is the mcmullen gas be divert to at what meter is hpl buy the residu gas this is the gas from teco vastar vintag tejon and swift i still see activ deal at meter in path manag for teco vastar vintag tejon and swift i also see gas schedul in pop at meter and pleas advic we need to resolv this as soon as possibl so settlement can send out payment thank ','class':1},ignore_index=True)\n",
        "emails_dict_df.append({'message':'subject mcmullen gas for jacki sinc the inlet to river plant is shut in on the last day of flow at what meter is the mcmullen gas be divert to at what meter is hpl buy the residu gas this is the gas from teco vastar vintag tejon and swift i still see activ deal at meter in path manag for teco vastar vintag tejon and swift i also see gas schedul in pop at meter and pleas advic we need to resolv this as soon as possibl so settlement can send out payment thank ','class':1},ignore_index=True)\n",
        "emails_dict_df.append({'message':'subject mcmullen meter is the mcmullen gas be divert to at what meter is hpl buy the residu gas this is the gas from teco vastar vintag tejon and swift i still see activ deal at meter in path manag for teco vastar vintag tejon and swift i also see gas schedul in pop at meter and pleas advic we need to resolv this as soon as possibl so settlement can send out payment thank ','class':1},ignore_index=True)\n"
      ],
      "metadata": {
        "id": "akt4YY0fMgwX"
      },
      "execution_count": null,
      "outputs": []
    },
    {
      "cell_type": "code",
      "source": [
        "from sklearn.feature_extraction.text import TfidfVectorizer\n",
        "from sklearn.model_selection import train_test_split\n",
        "Xs = emails_df['message'].values\n",
        "Ys = emails_df['class'].values\n",
        "\n",
        "\n",
        "vectorizer = TfidfVectorizer(sublinear_tf=True, max_df=0.5,stop_words='english')\n",
        "Xs1 = vectorizer.fit_transform(Xs)\n",
        "\n",
        "\n",
        "X_train, X_test, y_train, y_test = train_test_split(Xs1,Ys,test_size=0.2, shuffle=True, random_state=0, stratify=Ys)\n",
        "\n",
        "from sklearn.naive_bayes import MultinomialNB\n",
        "\n",
        "clf = MultinomialNB()\n",
        "\n",
        "clf.fit(X_train, y_train)\n",
        "\n",
        "pred = clf.predict(X_test)\n",
        "\n",
        "print(\"Accuracy: {}\".format(clf.score(X_test, y_test)))"
      ],
      "metadata": {
        "colab": {
          "base_uri": "https://localhost:8080/"
        },
        "id": "zWQPbLaPNeUR",
        "outputId": "355842b3-9803-46a6-e469-760e0fd36062"
      },
      "execution_count": 48,
      "outputs": [
        {
          "output_type": "stream",
          "name": "stdout",
          "text": [
            "Accuracy: 0.9847271648873073\n"
          ]
        }
      ]
    },
    {
      "cell_type": "code",
      "source": [
        "email = [\"subject mcmullen gas for jacki sinc the inlet to river plant is shut in on the last day of flow at what meter is the mcmullen gas be divert to at what meter is hpl buy the residu gas this is the gas from teco vastar vintag tejon and swift i still see activ deal at meter in path manag for teco vastar vintag tejon and swift i also see gas schedul in pop at meter and pleas advic we need to resolv this as soon as possibl so settlement can send out payment thank \"]"
      ],
      "metadata": {
        "id": "YYbedw6eNml-"
      },
      "execution_count": 50,
      "outputs": []
    },
    {
      "cell_type": "code",
      "source": [
        "examples = vectorizer.transform(email)\n",
        "predictions = clf.predict(examples)\n",
        "predictions\n"
      ],
      "metadata": {
        "colab": {
          "base_uri": "https://localhost:8080/"
        },
        "id": "PRojRSzQN_CP",
        "outputId": "0286c1a5-2e6f-4526-b4df-8d7c566b9697"
      },
      "execution_count": 52,
      "outputs": [
        {
          "output_type": "stream",
          "name": "stdout",
          "text": [
            "array[1]\n"
          ]
        }
      ]
    },
    {
      "cell_type": "code",
      "source": [
        "import numpy as np\n",
        "import pandas as pd\n",
        "import scipy.stats as stats\n",
        "import matplotlib.pyplot as plt\n",
        "import seaborn as sns\n",
        "sns.set(style=\"whitegrid\")"
      ],
      "metadata": {
        "id": "ajX9JnTuOPHm"
      },
      "execution_count": 57,
      "outputs": []
    },
    {
      "cell_type": "code",
      "source": [
        "class NaiveBayesClassifier_WITH_RONI():\n",
        "    '''\n",
        "    Bayes Theorem form\n",
        "    P(y|X) = P(X|y) * P(y) / P(X)\n",
        "    '''\n",
        "    def calc_prior(self, features, target):\n",
        "        '''\n",
        "        prior probability P(y)\n",
        "        calculate prior probabilities\n",
        "        '''\n",
        "        self.prior = (features.groupby(target).apply(lambda x: len(x)) / self.rows).to_numpy()\n",
        "\n",
        "        return self.prior\n",
        "    \n",
        "    def calc_statistics(self, features, target):\n",
        "        '''\n",
        "        calculate mean, variance for each column and convert to numpy array\n",
        "        ''' \n",
        "        self.mean = features.groupby(target).apply(np.mean).to_numpy()\n",
        "        self.var = features.groupby(target).apply(np.var).to_numpy()\n",
        "              \n",
        "        return self.mean, self.var\n",
        "    \n",
        "    def gaussian_density(self, class_idx, x):     \n",
        "        '''\n",
        "        calculate probability from gaussian density function (normally distributed)\n",
        "        we will assume that probability of specific target value given specific class is normally distributed \n",
        "        \n",
        "        probability density function derived from wikipedia:\n",
        "        (1/√2pi*σ) * exp((-1/2)*((x-μ)^2)/(2*σ²)), where μ is mean, σ² is variance, σ is quare root of variance (standard deviation)\n",
        "        '''\n",
        "        mean = self.mean[class_idx]\n",
        "        var = self.var[class_idx]\n",
        "        numerator = np.exp((-1/2)*((x-mean)**2) / (2 * var))\n",
        "#         numerator = np.exp(-((x-mean)**2 / (2 * var)))\n",
        "        denominator = np.sqrt(2 * np.pi * var)\n",
        "        prob = numerator / denominator\n",
        "        return prob\n",
        "    \n",
        "    def calc_posterior(self, x):\n",
        "        posteriors = []\n",
        "\n",
        "        # calculate posterior probability for each class\n",
        "        for i in range(self.count):\n",
        "            prior = np.log(self.prior[i]) ## use the log to make it more numerically stable\n",
        "            conditional = np.sum(np.log(self.gaussian_density(i, x))) # use the log to make it more numerically stable\n",
        "            posterior = prior + conditional\n",
        "            posteriors.append(posterior)\n",
        "        # return class with highest posterior probability\n",
        "        return self.classes[np.argmax(posteriors)]\n",
        "     \n",
        "\n",
        "    def fit(self, features, target):\n",
        "        self.classes = np.unique(target)\n",
        "        self.count = len(self.classes)\n",
        "        self.feature_nums = features.shape[1]\n",
        "        self.rows = features.shape[0]\n",
        "        \n",
        "        self.calc_statistics(features, target)\n",
        "        self.calc_prior(features, target)\n",
        "        \n",
        "    def predict(self, features):\n",
        "        preds = [self.calc_posterior(f) for f in features.to_numpy()]\n",
        "        return preds\n",
        "\n",
        "    def accuracy(self, y_test, y_pred):\n",
        "        accuracy = np.sum(y_test == y_pred) / len(y_test)\n",
        "        return accuracy\n",
        "\n",
        "    def visualize(self, y_true, y_pred, target):\n",
        "        \n",
        "        tr = pd.DataFrame(data=y_true, columns=[target])\n",
        "        pr = pd.DataFrame(data=y_pred, columns=[target])\n",
        "        \n",
        "        \n",
        "        fig, ax = plt.subplots(1, 2, sharex='col', sharey='row', figsize=(15,6))\n",
        "        \n",
        "        sns.countplot(x=target, data=tr, ax=ax[0], palette='viridis', alpha=0.7, hue=target, dodge=False)\n",
        "        sns.countplot(x=target, data=pr, ax=ax[1], palette='viridis', alpha=0.7, hue=target, dodge=False)\n",
        "        \n",
        "\n",
        "        fig.suptitle('True vs Predicted Comparison', fontsize=20)\n",
        "\n",
        "        ax[0].tick_params(labelsize=12)\n",
        "        ax[1].tick_params(labelsize=12)\n",
        "        ax[0].set_title(\"True values\", fontsize=18)\n",
        "        ax[1].set_title(\"Predicted values\", fontsize=18)\n",
        "        plt.show()"
      ],
      "metadata": {
        "id": "vDXLiA-kVZ0o"
      },
      "execution_count": 83,
      "outputs": []
    },
    {
      "cell_type": "code",
      "source": [
        "\n",
        "df = pd.read_pickle(\"/content/drive/MyDrive/Pickles/df_dict.pkl\")\n",
        "# shuffle dataset with sample\n",
        "df = df.sample(frac=1, random_state=1).reset_index(drop=True)\n",
        "# df shape\n",
        "print(df.shape)\n",
        "\n",
        "X = df['message'].values\n",
        "y = df['class'].values\n",
        "\n",
        "vectorizer = TfidfVectorizer(sublinear_tf=True, max_df=0.5,stop_words='english')\n",
        "X = vectorizer.fit_transform(X)\n",
        "\n",
        "X, y = df.iloc[:, :-1], df.iloc[:, -1]\n",
        "\n",
        "\n",
        "# # split on train and test 0.7/0.3\n",
        "X_train, X_test, y_train, y_test = X[:100], X[100:], y[:100], y[100:]\n",
        "\n",
        "print(X_train.shape, y_train.shape)\n",
        "print(X_test.shape, y_test.shape)"
      ],
      "metadata": {
        "colab": {
          "base_uri": "https://localhost:8080/"
        },
        "id": "MECoxnDtVlBY",
        "outputId": "1c7d7a47-65cf-423f-d645-f8d93b2f7178"
      },
      "execution_count": 60,
      "outputs": [
        {
          "output_type": "stream",
          "name": "stdout",
          "text": [
            "(33716, 2)\n",
            "(100, 1) (100,)\n",
            "(33616, 1) (33616,)\n"
          ]
        }
      ]
    },
    {
      "cell_type": "code",
      "source": [
        "x = NaiveBayesClassifier_WITH_RONI()\n",
        "\n",
        "\n",
        "x.fit(X_train, y_train)"
      ],
      "metadata": {
        "id": "Eh6DUyPHWBAV"
      },
      "execution_count": 61,
      "outputs": []
    },
    {
      "cell_type": "code",
      "source": [
        "predictions = x.predict(X_test)"
      ],
      "metadata": {
        "id": "bEgjCcPXWf2u"
      },
      "execution_count": 62,
      "outputs": []
    },
    {
      "cell_type": "code",
      "source": [
        "x.accuracy(y_test, predictions)"
      ],
      "metadata": {
        "colab": {
          "base_uri": "https://localhost:8080/"
        },
        "id": "m0wF7UPyWkeh",
        "outputId": "fc3983d2-37a9-4936-f967-3398d7a713d5"
      },
      "execution_count": 64,
      "outputs": [
        {
          "output_type": "stream",
          "name": "stdout",
          "text": [
            "0.9089838172298905\n"
          ]
        }
      ]
    },
    {
      "cell_type": "code",
      "source": [
        "y_predict=clf.predict(X_test)\n",
        "confusion_matrix(y_predict,y_test)"
      ],
      "metadata": {
        "colab": {
          "base_uri": "https://localhost:8080/"
        },
        "id": "vp5Le2alXC2r",
        "outputId": "0cfba101-dae7-4dfa-9798-27eaafbc731d"
      },
      "execution_count": 79,
      "outputs": [
        {
          "output_type": "stream",
          "name": "stdout",
          "text": [
            "array([[3200,   54],[  49, 3498]])\n"
          ]
        }
      ]
    },
    {
      "cell_type": "code",
      "source": [
        "class NaiveBayesClassifier_WITH_Thresholds():\n",
        "    threshold_spam=0.3\n",
        "    threshold_ham=0.7\n",
        "    def calc_prior(self, features, target):\n",
        "        '''\n",
        "        prior probability P(y)\n",
        "        calculate prior probabilities\n",
        "        '''\n",
        "        self.prior = (features.groupby(target).apply(lambda x: len(x)) / self.rows).to_numpy()\n",
        "\n",
        "        return self.prior\n",
        "    \n",
        "    def calc_statistics(self, features, target):\n",
        "        '''\n",
        "        calculate mean, variance for each column and convert to numpy array\n",
        "        ''' \n",
        "        self.mean = features.groupby(target).apply(np.mean).to_numpy()\n",
        "        self.var = features.groupby(target).apply(np.var).to_numpy()\n",
        "              \n",
        "        return self.mean, self.var\n",
        "    \n",
        "    def gaussian_density(self, class_idx, x):     \n",
        "        mean = self.mean[class_idx]\n",
        "        var = self.var[class_idx]\n",
        "        numerator = np.exp((-1/2)*((x-mean)**2) / (2 * var))\n",
        "        threshold_ham = np.exp(-((x-mean)**2 / (2 * var)))\n",
        "        denominator = np.sqrt(2 * np.pi * var)\n",
        "        prob = numerator / denominator\n",
        "        return prob\n",
        "    \n",
        "    def calc_posterior(self, x):\n",
        "        posteriors = []\n",
        "\n",
        "        for i in range(self.count):\n",
        "            if(threshold_ham>0.4):\n",
        "              prior = np.log(self.prior[i]) ## use the log to make it more numerically stable\n",
        "              conditional = np.sum(np.log(self.gaussian_density(i, x))) # use the log to make it more numerically stable\n",
        "              posterior = prior + conditional\n",
        "              posteriors.append(posterior)\n",
        "          # return class with highest posterior probability\n",
        "        return self.classes[np.argmax(posteriors)]\n",
        "     \n",
        "\n",
        "    def fit(self, features, target):\n",
        "        self.classes = np.unique(target)\n",
        "        self.count = len(self.classes)\n",
        "        self.feature_nums = features.shape[1]\n",
        "        self.rows = features.shape[0]\n",
        "        \n",
        "        self.calc_statistics(features, target)\n",
        "        self.calc_prior(features, target)\n",
        "        \n",
        "    def predict(self, features):\n",
        "        preds = [self.calc_posterior(f) for f in features.to_numpy()]\n",
        "        return preds\n",
        "\n",
        "    def accuracy(self, y_test, y_pred):\n",
        "        accuracy = np.sum(y_test == y_pred) / len(y_test)\n",
        "        return accuracy\n",
        "\n",
        "    def visualize(self, y_true, y_pred, target):\n",
        "        \n",
        "        tr = pd.DataFrame(data=y_true, columns=[target])\n",
        "        pr = pd.DataFrame(data=y_pred, columns=[target])\n",
        "        \n",
        "        \n",
        "        fig, ax = plt.subplots(1, 2, sharex='col', sharey='row', figsize=(15,6))\n",
        "        \n",
        "        sns.countplot(x=target, data=tr, ax=ax[0], palette='viridis', alpha=0.7, hue=target, dodge=False)\n",
        "        sns.countplot(x=target, data=pr, ax=ax[1], palette='viridis', alpha=0.7, hue=target, dodge=False)\n",
        "        \n",
        "\n",
        "        fig.suptitle('True vs Predicted Comparison', fontsize=20)\n",
        "\n",
        "        ax[0].tick_params(labelsize=12)\n",
        "        ax[1].tick_params(labelsize=12)\n",
        "        ax[0].set_title(\"True values\", fontsize=18)\n",
        "        ax[1].set_title(\"Predicted values\", fontsize=18)\n",
        "        plt.show()"
      ],
      "metadata": {
        "id": "B2Hh4Q3-Xdm4"
      },
      "execution_count": null,
      "outputs": []
    },
    {
      "cell_type": "code",
      "source": [
        "x = NaiveBayesClassifier_WITH_Thresholds()\n",
        "\n",
        "\n",
        "x.fit(X_train, y_train)"
      ],
      "metadata": {
        "id": "d9dyE983YfYF"
      },
      "execution_count": null,
      "outputs": []
    },
    {
      "cell_type": "code",
      "source": [
        "predictions = x.predict(X_test)"
      ],
      "metadata": {
        "id": "arjDRLGJZEmD"
      },
      "execution_count": null,
      "outputs": []
    },
    {
      "cell_type": "code",
      "source": [
        "x.accuracy(y_test, predictions)"
      ],
      "metadata": {
        "colab": {
          "base_uri": "https://localhost:8080/"
        },
        "id": "Ij144gUNZMJv",
        "outputId": "3faf7948-5a66-446b-b6a9-952263209653"
      },
      "execution_count": 86,
      "outputs": [
        {
          "output_type": "stream",
          "name": "stdout",
          "text": [
            "0.8690936732567\n"
          ]
        }
      ]
    },
    {
      "cell_type": "code",
      "source": [
        "y_predict=clf.predict(X_test)\n",
        "confusion_matrix(y_predict,y_test)"
      ],
      "metadata": {
        "colab": {
          "base_uri": "https://localhost:8080/"
        },
        "id": "SrQHJ2fFZMQA",
        "outputId": "25d11ca1-617f-482b-a48d-67311ed8d229"
      },
      "execution_count": 85,
      "outputs": [
        {
          "output_type": "stream",
          "name": "stdout",
          "text": [
            "array([[3000,   60],[  68, 3808]])\n"
          ]
        }
      ]
    }
  ],
  "metadata": {
    "accelerator": "GPU",
    "colab": {
      "machine_shape": "hm",
      "name": "AICS_Final_Project.ipynb",
      "provenance": []
    },
    "kernelspec": {
      "display_name": "Python 3",
      "name": "python3"
    },
    "language_info": {
      "name": "python"
    }
  },
  "nbformat": 4,
  "nbformat_minor": 0
}